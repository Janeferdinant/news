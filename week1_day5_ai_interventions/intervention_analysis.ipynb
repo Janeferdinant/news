
import pandas as pd
import matplotlib.pyplot as plt

df = pd.read_csv('intervention_data.csv')
df['gain'] = df['post_score'] - df['pre_score']

# Group stats
stats = df.groupby('group')['gain'].agg(['mean', 'std'])
print(stats)

# Plot
plt.figure(figsize=(6,4))
df.boxplot(column='gain', by='group')
plt.title('Learning Gains by Group')
plt.suptitle('')
plt.xlabel('Group')
plt.ylabel('Score Gain')
plt.savefig('week1_day5_ai_interventions/assets/gain_boxplot.png')
plt.show()
